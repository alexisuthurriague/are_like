{
 "cells": [
  {
   "cell_type": "code",
   "execution_count": 1,
   "metadata": {},
   "outputs": [],
   "source": [
    "import random"
   ]
  },
  {
   "cell_type": "markdown",
   "metadata": {},
   "source": [
    "Modèle classique"
   ]
  },
  {
   "cell_type": "code",
   "execution_count": 7,
   "metadata": {},
   "outputs": [],
   "source": [
    "def portee_de_diffusion(abonnes, prop_min_init=0.2, seuil=0.1, taille_reseau=1e6, like_sub_gen=0.6, proba_exploration=0.01):\n",
    "\n",
    "\n",
    "    population_touchee = abonnes\n",
    "\n",
    "    t = 1 #une unité de temps apres la publication\n",
    "\n",
    "    nombre_de_likes = random.randint(int(population_touchee * prop_min_init), population_touchee) #nombre de likes aléatoire\n",
    "    total_like = nombre_de_likes\n",
    "        \n",
    "    #p:int\n",
    "    proportion = nombre_de_likes / population_touchee #proportion de likes\n",
    "    proportion_totale = proportion\n",
    "    \n",
    "    liste_pop_touchee= [population_touchee]\n",
    "    liste_likes=[nombre_de_likes]\n",
    "\n",
    "    while proportion > seuil: #tant que la proportion de likes est supérieure au seuil\n",
    "        \n",
    "        \n",
    "        nouvelle_pop = int(proportion * proba_exploration * taille_reseau)\n",
    "        population_touchee = population_touchee + nouvelle_pop\n",
    "        t+=1\n",
    "        \n",
    "        \n",
    "        nouvelle_pop_likes = random.randint(int(nouvelle_pop * proportion * like_sub_gen),\n",
    "                                            int(nouvelle_pop * proportion))\n",
    " \n",
    "        total_like += nouvelle_pop_likes\n",
    "        propotion_totale = total_like / population_touchee\n",
    "        proportion = nouvelle_pop_likes / nouvelle_pop  \n",
    "        like_sub_gen = like_sub_gen * 0.9\n",
    "        \n",
    "        \n",
    "        liste_pop_touchee.append(nouvelle_pop)\n",
    "        liste_likes.append(nouvelle_pop_likes)\n",
    "    \n",
    "    \n",
    "    return liste_pop_touchee, liste_likes #nombre total de personnes touchées par la publication"
   ]
  },
  {
   "cell_type": "code",
   "execution_count": 8,
   "metadata": {},
   "outputs": [
    {
     "data": {
      "image/png": "[encoded data removed]",
      "text/plain": [
       "<Figure size 432x288 with 1 Axes>"
      ]
     },
     "metadata": {},
     "output_type": "display_data"
    },
    {
     "name": "stdout",
     "output_type": "stream",
     "text": [
      "[100, 9700, 6982, 6131, 3824, 1976, 1553, 1403, 1104, 1059]\n",
      "[97, 6773, 4281, 2345, 756, 307, 218, 155, 117, 65]\n"
     ]
    }
   ],
   "source": [
    "import matplotlib.pyplot as plt\n",
    "\n",
    "vues,likes= portee_de_diffusion(100)\n",
    "\n",
    "plt.bar(range(len(vues)), vues)\n",
    "plt.bar(range(len(likes)), likes)\n",
    "plt.xlabel(\"Generation\")\n",
    "plt.ylabel(\"Nombre de like et popuation touchee par génération\")\n",
    "plt.legend([\"vues\",\"likes\"])\n",
    "plt.show()\n",
    "\n",
    "print(vues)\n",
    "print(likes)"
   ]
  },
  {
   "cell_type": "markdown",
   "metadata": {},
   "source": [
    "\n",
    "\n",
    "\n",
    "Nouvelle fonction, seul le return change\n",
    "\n",
    "\n",
    "\n",
    "\n",
    "\n",
    "\n",
    "\n",
    "\n",
    "\n",
    "\n",
    "\n",
    "\n",
    "\n",
    "\n",
    "\n",
    "\n",
    "\n"
   ]
  },
  {
   "cell_type": "code",
   "execution_count": 9,
   "metadata": {},
   "outputs": [],
   "source": [
    "def portee_de_diffusion2(abonnes, prop_min_init, seuil, taille_reseau, like_sub_gen, proba_exploration):\n",
    "\n",
    "\n",
    "    population_touchee = abonnes\n",
    "\n",
    "    t = 1 #une unité de temps apres la publication\n",
    "\n",
    "    nombre_de_likes = random.randint(int(population_touchee * prop_min_init), population_touchee) #nombre de likes aléatoire\n",
    "    total_like = nombre_de_likes\n",
    "        \n",
    "    #p:int\n",
    "    proportion = nombre_de_likes / population_touchee #proportion de likes\n",
    "    proportion_totale = proportion\n",
    "    \n",
    "    liste_pop_touchee= [population_touchee]\n",
    "    liste_likes=[nombre_de_likes]\n",
    "\n",
    "    nb_generations=0\n",
    "    \n",
    "    while proportion > seuil: #tant que la proportion de likes est supérieure au seuil\n",
    "        \n",
    "        \n",
    "        nouvelle_pop = int(proportion * proba_exploration * taille_reseau)\n",
    "        population_touchee = population_touchee + nouvelle_pop\n",
    "        t+=1\n",
    "        \n",
    "        ### Comment modeliser en fonction du nombre de la proportion precedente\n",
    "        \n",
    "        nouvelle_pop_likes = random.randint(int(nouvelle_pop * proportion * like_sub_gen),\n",
    "                                            int(nouvelle_pop * proportion))\n",
    " \n",
    "        total_like += nouvelle_pop_likes\n",
    "        propotion_totale = total_like / population_touchee\n",
    "        proportion = nouvelle_pop_likes / nouvelle_pop  \n",
    "        like_sub_gen = like_sub_gen * 0.9\n",
    "        \n",
    "        \n",
    "        liste_pop_touchee.append(nouvelle_pop)\n",
    "        liste_likes.append(nouvelle_pop_likes)\n",
    "    \n",
    "        nb_generations+=1\n",
    "        \n",
    "        \n",
    "    return  (population_touchee, total_like, nb_generations)"
   ]
  },
  {
   "cell_type": "markdown",
   "metadata": {},
   "source": [
    "On va faire varier les paramètres et voir  comment ça réagit au niveau des résultats."
   ]
  },
  {
   "cell_type": "code",
   "execution_count": 10,
   "metadata": {},
   "outputs": [],
   "source": [
    "def moyenne_3_resultats(abonnes, prop_min_init, seuil, taille_reseau, like_sub_gen, proba_exploration):\n",
    "    \n",
    "    x=0\n",
    "    y=0\n",
    "    z=0\n",
    "    \n",
    "    for i in range(10000):\n",
    "        \n",
    "        population_touchee, total_like, nb_generations = portee_de_diffusion2(abonnes, prop_min_init, seuil, taille_reseau, like_sub_gen, proba_exploration)\n",
    "        \n",
    "        x= x+ population_touchee\n",
    "        y= y+ total_like\n",
    "        z= z+ nb_generations\n",
    "            \n",
    "    return (x//10000, y//10000, z//10000)"
   ]
  },
  {
   "cell_type": "markdown",
   "metadata": {},
   "source": [
    "On commence par faire varier le nombre d'abonnés (1er paramètre)"
   ]
  },
  {
   "cell_type": "code",
   "execution_count": 11,
   "metadata": {},
   "outputs": [
    {
     "name": "stdout",
     "output_type": "stream",
     "text": [
      "(21126, 7994, 5)\n",
      "(21509, 8201, 5)\n",
      "(21930, 8456, 5)\n"
     ]
    }
   ],
   "source": [
    "print (moyenne_3_resultats(100, 0.2, 0.1, 1e6, 0.6, 0.01))\n",
    "\n",
    "print (moyenne_3_resultats(500, 0.2, 0.1, 1e6, 0.6, 0.01))\n",
    "\n",
    "print (moyenne_3_resultats(1000, 0.2, 0.1, 1e6, 0.6, 0.01))"
   ]
  },
  {
   "cell_type": "code",
   "execution_count": 15,
   "metadata": {},
   "outputs": [
    {
     "data": {
      "image/png": "[encoded data removed]",
      "text/plain": [
       "<Figure size 432x288 with 1 Axes>"
      ]
     },
     "metadata": {},
     "output_type": "display_data"
    }
   ],
   "source": [
    "import matplotlib.pyplot as plt\n",
    "\n",
    "liste_abonnes=[100,500,1000]\n",
    "liste_pop_touchee=[21126,21509,21930]\n",
    "\n",
    "\n",
    "plt.bar(range(len(liste_pop_touchee)), liste_pop_touchee)\n",
    "\n",
    "\n",
    "plt.legend([\"vues, 100, 500, 1000 abonnes\"])\n",
    "plt.show()\n",
    "\n"
   ]
  },
  {
   "cell_type": "code",
   "execution_count": 17,
   "metadata": {},
   "outputs": [
    {
     "data": {
      "image/png": "[encoded data removed]",
      "text/plain": [
       "<Figure size 432x288 with 1 Axes>"
      ]
     },
     "metadata": {},
     "output_type": "display_data"
    },
    {
     "name": "stdout",
     "output_type": "stream",
     "text": [
      "[211, 43, 21]\n"
     ]
    }
   ],
   "source": [
    "import matplotlib.pyplot as plt\n",
    "\n",
    "liste_abonnes=[100,500,1000]\n",
    "liste_pop_touchee=[21126,21509,21930]\n",
    "\n",
    "liste_rapport=[]\n",
    "for i in range(3):\n",
    "    liste_rapport.append(liste_pop_touchee[i]//liste_abonnes[i])\n",
    "\n",
    "plt.bar(range(len(liste_rapport)), liste_rapport)\n",
    "\n",
    "\n",
    "plt.legend([\"rapport vues/abonnes, 100, 500, 1000 abonnes\"])\n",
    "plt.show()\n",
    "\n",
    "print(liste_rapport)\n"
   ]
  },
  {
   "cell_type": "code",
   "execution_count": null,
   "metadata": {},
   "outputs": [],
   "source": []
  },
  {
   "cell_type": "markdown",
   "metadata": {},
   "source": [
    "Puis prop_min_init:"
   ]
  },
  {
   "cell_type": "code",
   "execution_count": 18,
   "metadata": {},
   "outputs": [
    {
     "name": "stdout",
     "output_type": "stream",
     "text": [
      "(19766, 7476, 5)\n",
      "(22007, 8494, 5)\n",
      "(23954, 9485, 6)\n",
      "(26054, 10726, 6)\n"
     ]
    }
   ],
   "source": [
    "print (moyenne_3_resultats(1000, 0.1, 0.1, 1e6, 0.6, 0.01))\n",
    "\n",
    "print (moyenne_3_resultats(1000, 0.2, 0.1, 1e6, 0.6, 0.01))\n",
    "\n",
    "print (moyenne_3_resultats(1000, 0.3, 0.1, 1e6, 0.6, 0.01))\n",
    "\n",
    "print (moyenne_3_resultats(1000, 0.4, 0.1, 1e6, 0.6, 0.01))"
   ]
  },
  {
   "cell_type": "code",
   "execution_count": 19,
   "metadata": {},
   "outputs": [
    {
     "data": {
      "image/png": "[encoded data removed]",
      "text/plain": [
       "<Figure size 432x288 with 1 Axes>"
      ]
     },
     "metadata": {},
     "output_type": "display_data"
    },
    {
     "name": "stdout",
     "output_type": "stream",
     "text": [
      "[200999.0, 110459.0, 80520.0, 64724.0]\n"
     ]
    }
   ],
   "source": [
    "import matplotlib.pyplot as plt\n",
    "\n",
    "liste_prop_min_init=[0.1,0.2,0.3,0.4]\n",
    "liste_pop_touchee=[20100,22092,24156,25890]\n",
    "\n",
    "liste_rapport=[]\n",
    "for i in range(4):\n",
    "    liste_rapport.append(liste_pop_touchee[i]//liste_prop_min_init[i])\n",
    "\n",
    "plt.bar(range(len(liste_rapport)), liste_rapport)\n",
    "\n",
    "\n",
    "plt.legend([\"rapport vues/prop_min_init, prop_min_init=0.1,0.2,0.3,0.4\"])\n",
    "plt.show()\n",
    "\n",
    "print(liste_rapport)\n"
   ]
  },
  {
   "cell_type": "code",
   "execution_count": 20,
   "metadata": {},
   "outputs": [
    {
     "data": {
      "image/png": "[encoded data removed]",
      "text/plain": [
       "<Figure size 432x288 with 1 Axes>"
      ]
     },
     "metadata": {},
     "output_type": "display_data"
    }
   ],
   "source": [
    "import matplotlib.pyplot as plt\n",
    "\n",
    "liste_prop_min_init=[0.1,0.2,0.3,0.4]\n",
    "liste_pop_touchee=[20100,22092,24156,25890]\n",
    "\n",
    "\n",
    "plt.bar(range(len(liste_pop_touchee)), liste_pop_touchee)\n",
    "\n",
    "plt.legend([\"vues,prop_min_init=0.1,0.2,0.3,0.4\"])\n",
    "\n",
    "\n",
    "\n",
    "plt.show()\n",
    "\n"
   ]
  },
  {
   "cell_type": "markdown",
   "metadata": {},
   "source": [
    "Puis le seuil:"
   ]
  },
  {
   "cell_type": "code",
   "execution_count": 21,
   "metadata": {},
   "outputs": [
    {
     "name": "stdout",
     "output_type": "stream",
     "text": [
      "(22239, 7900, 9)\n",
      "(20084, 7639, 5)\n",
      "(17282, 7279, 3)\n",
      "(14554, 6782, 2)\n",
      "(11964, 6147, 1)\n"
     ]
    }
   ],
   "source": [
    "print (moyenne_3_resultats(1000, 0.1, 0.01, 1e6, 0.6, 0.01))\n",
    "print (moyenne_3_resultats(1000, 0.1, 0.1, 1e6, 0.6, 0.01))\n",
    "print (moyenne_3_resultats(1000, 0.1, 0.2, 1e6, 0.6, 0.01))\n",
    "print (moyenne_3_resultats(1000, 0.1, 0.3, 1e6, 0.6, 0.01))\n",
    "print (moyenne_3_resultats(1000, 0.1, 0.4, 1e6, 0.6, 0.01))"
   ]
  },
  {
   "cell_type": "code",
   "execution_count": 22,
   "metadata": {},
   "outputs": [
    {
     "data": {
      "image/png": "[encoded data removed]",
      "text/plain": [
       "<Figure size 432x288 with 1 Axes>"
      ]
     },
     "metadata": {},
     "output_type": "display_data"
    }
   ],
   "source": [
    "import matplotlib.pyplot as plt\n",
    "\n",
    "liste_seuil=[0.1,0.2,0.3,0.4]\n",
    "liste_pop_touchee=[20140,17223,14722,11998]\n",
    "\n",
    "\n",
    "plt.bar(range(len(liste_pop_touchee)), liste_pop_touchee)\n",
    "\n",
    "plt.legend([\"vues,seuil=0.1,0.2,0.3,0.4\"])\n",
    "\n",
    "\n",
    "\n",
    "plt.show()\n"
   ]
  },
  {
   "cell_type": "code",
   "execution_count": 23,
   "metadata": {},
   "outputs": [
    {
     "data": {
      "image/png": "[encoded data removed]",
      "text/plain": [
       "<Figure size 432x288 with 1 Axes>"
      ]
     },
     "metadata": {},
     "output_type": "display_data"
    },
    {
     "name": "stdout",
     "output_type": "stream",
     "text": [
      "[201399.0, 86114.0, 49073.0, 29994.0]\n"
     ]
    }
   ],
   "source": [
    "import matplotlib.pyplot as plt\n",
    "\n",
    "liste_seuil=[0.1,0.2,0.3,0.4]\n",
    "liste_pop_touchee=[20140,17223,14722,11998]\n",
    "\n",
    "liste_rapport=[]\n",
    "for i in range(4):\n",
    "    liste_rapport.append(liste_pop_touchee[i]//liste_seuil[i])\n",
    "\n",
    "plt.bar(range(len(liste_rapport)), liste_rapport)\n",
    "\n",
    "\n",
    "plt.legend([\"rapport vues/seuil, seuil=0.1,0.2,0.3,0.4\"])\n",
    "plt.show()\n",
    "\n",
    "print(liste_rapport)"
   ]
  },
  {
   "cell_type": "markdown",
   "metadata": {},
   "source": [
    "Puis la taille du réseau:"
   ]
  },
  {
   "cell_type": "code",
   "execution_count": 24,
   "metadata": {},
   "outputs": [
    {
     "name": "stdout",
     "output_type": "stream",
     "text": [
      "(21899, 7696, 9)\n",
      "(210870, 71831, 10)\n"
     ]
    }
   ],
   "source": [
    "print (moyenne_3_resultats(1000, 0.1, 0.01, 1e6, 0.6, 0.01))\n",
    "print (moyenne_3_resultats(1000, 0.1, 0.01, 1e7, 0.6, 0.01))"
   ]
  },
  {
   "cell_type": "code",
   "execution_count": null,
   "metadata": {},
   "outputs": [],
   "source": []
  },
  {
   "cell_type": "markdown",
   "metadata": {},
   "source": [
    "Puis like_sub_gen:"
   ]
  },
  {
   "cell_type": "code",
   "execution_count": 25,
   "metadata": {},
   "outputs": [
    {
     "name": "stdout",
     "output_type": "stream",
     "text": [
      "(21915, 7703, 9)\n",
      "(24836, 9118, 10)\n",
      "(28796, 11341, 11)\n",
      "(32839, 13728, 12)\n",
      "(38624, 17678, 13)\n"
     ]
    }
   ],
   "source": [
    "print (moyenne_3_resultats(1000, 0.1, 0.01, 1e6, 0.6, 0.01))\n",
    "print (moyenne_3_resultats(1000, 0.1, 0.01, 1e6, 0.7, 0.01))\n",
    "print (moyenne_3_resultats(1000, 0.1, 0.01, 1e6, 0.8, 0.01))\n",
    "print (moyenne_3_resultats(1000, 0.1, 0.01, 1e6, 0.9, 0.01))\n",
    "print (moyenne_3_resultats(1000, 0.1, 0.01, 1e6, 1,   0.01))"
   ]
  },
  {
   "cell_type": "code",
   "execution_count": null,
   "metadata": {},
   "outputs": [],
   "source": []
  },
  {
   "cell_type": "markdown",
   "metadata": {},
   "source": [
    "Puis proba_exploration:"
   ]
  },
  {
   "cell_type": "code",
   "execution_count": 28,
   "metadata": {},
   "outputs": [
    {
     "name": "stdout",
     "output_type": "stream",
     "text": [
      "(22039, 7762, 9)\n",
      "(43161, 14895, 9)\n",
      "(64300, 22107, 10)\n",
      "(84893, 29089, 10)\n"
     ]
    }
   ],
   "source": [
    "\n",
    "print (moyenne_3_resultats(1000, 0.1, 0.01, 1e6, 0.6, 0.01))\n",
    "print (moyenne_3_resultats(1000, 0.1, 0.01, 1e6, 0.6, 0.02))\n",
    "print (moyenne_3_resultats(1000, 0.1, 0.01, 1e6, 0.6, 0.03))\n",
    "print (moyenne_3_resultats(1000, 0.1, 0.01, 1e6, 0.6, 0.04))"
   ]
  },
  {
   "cell_type": "code",
   "execution_count": 30,
   "metadata": {},
   "outputs": [
    {
     "data": {
      "image/png": "[encoded data removed]",
      "text/plain": [
       "<Figure size 432x288 with 1 Axes>"
      ]
     },
     "metadata": {},
     "output_type": "display_data"
    }
   ],
   "source": [
    "import matplotlib.pyplot as plt\n",
    "\n",
    "liste_proba_exploration =[0.01,0.02,0.03,0.04]\n",
    "liste_pop_touchee=[22039,43161,64300,84893]\n",
    "\n",
    "\n",
    "plt.bar(range(len(liste_pop_touchee)), liste_pop_touchee)\n",
    "\n",
    "plt.legend([\"vues,proba_exploration=0.01,0.02,0.03,0.04\"])\n",
    "\n",
    "\n",
    "\n",
    "plt.show()\n"
   ]
  },
  {
   "cell_type": "code",
   "execution_count": null,
   "metadata": {},
   "outputs": [],
   "source": []
  },
  {
   "cell_type": "markdown",
   "metadata": {},
   "source": [
    "Notre modèle représente plûtot bien le tassement des vues et likes au fil des générations, mais très mal son augmentation dans le cas d'un \"buzz\".\n",
    "\n",
    "Le nombre de vues augmente très légèrement quand on augmente le nombre d'abonnés: c'est un facteur qui compte, mais qui compte peu dans notre modèle.\n",
    "\n",
    "De manière générale, tous les paramètres influent de manière logique (instinctive) sur le nombre total de vues.\n",
    "\n",
    "Le nombre de vues augmente linéairement quand on fait varier proba_exploration, le seuil, et prop_min_init.\n",
    "\n",
    "Le paramètre prop_min_init, proportion minimale de likes à la première génération (correspondant à la fidélité des abonnés) joue donc un rôle important: il détermine le nombre de likes à la première génération (en moyenne), ce qui impactera directement le nombre total de vues. \n",
    "Dans notre modèle, c'est donc le nombre de likes de la première génération qui détermine le nombre total de vues, plus que le nombre d'abonnés.\n",
    "\n",
    "L'hypothèse de départ (plus une publication est appréciée, plus elle a de chances de devenir virale) est donc vérifiée, et on peut même ajouter: plus une publication est appréciée par les abonnés, plus elle a de chances de devenir virale.\n",
    "\n",
    "\n",
    "Concernant la variable proba_exploration, elle nous indique la facilité pour les codeurs d'un réseau social de gonfler artificiellement ou d'atténuer la diffusion d'une publication. Quand on sait que les réseaux sociaux sont le nouveau média de masse, cela montre la capacité potentielle d'un petit groupe de décideurs (les propriétaires des principaux réseaux sociaux) d'influer de manière considérable sur les interactions de la population.\n",
    "\n"
   ]
  },
  {
   "cell_type": "markdown",
   "metadata": {},
   "source": [
    "\n",
    "\n",
    "L'ARE m'a permis de découvrir une nouvelle facette de l'informatique et de la science en général qui est la recherche. Partir d'une feuille blanche est toujours compliqué mais c'est une bonne expérience. Cela permet d'apprendre à aller à l'essentiel, de ne pas se perdre dans les détails, de chercher l'efficacité et des résultats exploitables.\n",
    "J'ai appris à travailler seul et à travailler dans l'urgence."
   ]
  },
  {
   "cell_type": "code",
   "execution_count": null,
   "metadata": {},
   "outputs": [],
   "source": []
  }
 ],
 "metadata": {
  "kernelspec": {
   "display_name": "Python 3",
   "language": "python",
   "name": "python3"
  },
  "language_info": {
   "codemirror_mode": {
    "name": "ipython",
    "version": 3
   },
   "file_extension": ".py",
   "mimetype": "text/x-python",
   "name": "python",
   "nbconvert_exporter": "python",
   "pygments_lexer": "ipython3",
   "version": "3.5.3"
  }
 },
 "nbformat": 4,
 "nbformat_minor": 2
}
