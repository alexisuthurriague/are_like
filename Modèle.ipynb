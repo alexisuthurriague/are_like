{
 "cells": [
  {
   "cell_type": "code",
   "execution_count": 3,
   "metadata": {},
   "outputs": [],
   "source": [
    "#Modèle classique:"
   ]
  },
  {
   "cell_type": "code",
   "execution_count": 4,
   "metadata": {},
   "outputs": [],
   "source": [
    "def portee_de_diffusion(abonnes):\n",
    "\n",
    "    import random\n",
    "\n",
    "    #population_touchee:int\n",
    "    population_touchee = abonnes\n",
    "\n",
    "    #t:int\n",
    "    t=1 #une unité de temps apres la publication\n",
    "    \n",
    "    #nombre_de_likes:int\n",
    "    nombre_de_likes=random.randint(0,abonnes) #nombre de likes aléatoire\n",
    "    \n",
    "    #p:int\n",
    "    proportion = nombre_de_likes/population_touchee #proportion de likes\n",
    "    \n",
    "    while proportion > 1/10: #tant que la proportion de likes est supérieure à 1/10ème\n",
    "\n",
    "        population_touchee+=100    #la population augmente de 100 unités        \n",
    "        t=t+1       #le temps augmente d'une unité\n",
    "        nombre_de_likes = random.randint(0,100)  #aléatoire    \n",
    "        proportion = nombre_de_likes/100 #proportion de likes\n",
    "        \n",
    "    return population_touchee #nombre total de personnes touchées par la publication"
   ]
  },
  {
   "cell_type": "code",
   "execution_count": 55,
   "metadata": {},
   "outputs": [
    {
     "data": {
      "text/plain": [
       "500"
      ]
     },
     "execution_count": 55,
     "metadata": {},
     "output_type": "execute_result"
    }
   ],
   "source": [
    "portee_de_diffusion(100)"
   ]
  },
  {
   "cell_type": "code",
   "execution_count": 1,
   "metadata": {},
   "outputs": [],
   "source": [
    "def portee_de_diffusion(abonnes):\n",
    "\n",
    "    import random\n",
    "\n",
    "    #population_touchee:int\n",
    "    population_touchee = abonnes\n",
    "\n",
    "    #t:int\n",
    "    t=1 #une unité de temps apres la publication\n",
    "    \n",
    "    #nombre_de_likes:int\n",
    "    nombre_de_likes=random.randint(0,abonnes) #aléatoire\n",
    "    \n",
    "    #p:int\n",
    "    proportion = nombre_de_likes/population_touchee #proportion de likes\n",
    "    \n",
    "    while proportion > 1/10: #tant que la proportion de likes est supérieure à 1/10ème\n",
    "\n",
    "        nouvelle_pop= 0.1*population_touchee\n",
    "        population_touchee= population_touchee + nouvelle_pop   #la population augmente de 100 unités        \n",
    "        t=t+1       #le temps augmente d'une unité\n",
    "        nombre_de_likes = random.randint(0,nouvelle_pop)  #aléatoire    \n",
    "        proportion = nombre_de_likes/nouvelle_pop #proportion de likes\n",
    "        \n",
    "    return population_touchee #nombre total de personnes touchées par la publication"
   ]
  },
  {
   "cell_type": "code",
   "execution_count": null,
   "metadata": {},
   "outputs": [],
   "source": []
  }
 ],
 "metadata": {
  "kernelspec": {
   "display_name": "Python 3",
   "language": "python",
   "name": "python3"
  },
  "language_info": {
   "codemirror_mode": {
    "name": "ipython",
    "version": 3
   },
   "file_extension": ".py",
   "mimetype": "text/x-python",
   "name": "python",
   "nbconvert_exporter": "python",
   "pygments_lexer": "ipython3",
   "version": "3.5.3"
  }
 },
 "nbformat": 4,
 "nbformat_minor": 2
}
