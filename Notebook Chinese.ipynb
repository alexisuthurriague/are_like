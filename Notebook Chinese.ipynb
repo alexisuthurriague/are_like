{
 "cells": [
  {
   "cell_type": "code",
   "execution_count": 1,
   "metadata": {},
   "outputs": [],
   "source": [
    "# -*- coding: utf-8 -*-\n",
    "import scipy.integrate as spi\n",
    "import numpy as np\n",
    "import pylab as pl"
   ]
  },
  {
   "cell_type": "markdown",
   "metadata": {},
   "source": [
    "Hypothèse:Tous ceux qui ont vu cette publication diffuseront cette publicité.\n",
    "\n",
    "Les paramètres qui sont utilisés dans le modele"
   ]
  },
  {
   "cell_type": "code",
   "execution_count": 2,
   "metadata": {},
   "outputs": [],
   "source": [
    "p_0=1.3206\n",
    "\"\"\"La probabilité qu'une publicité se transmette d'une personne qui a déjà vu à un individu non vu par unité de temps est p_0\"\"\"\n",
    "p_1=0\n",
    "#p_1 est La probabilité les gens qui a déjà vu va arreter diffuer cette publicité.\n",
    "I0=1e-6\n",
    "#I0 est la partie initiale de les personnes qui a vu ce publicité\n",
    "ND=80\n",
    "#ND est tous les temps\n",
    "TS=1.0\n",
    "INPUT = (1.0-I0, I0)"
   ]
  },
  {
   "cell_type": "markdown",
   "metadata": {},
   "source": [
    "on écrit une fonction diff_pub pour obtient les gens qui ont vu ou pas."
   ]
  },
  {
   "cell_type": "code",
   "execution_count": 3,
   "metadata": {},
   "outputs": [],
   "source": [
    "def diff_pub(INP,t):\n",
    "    Y=np.zeros((2)) \n",
    "    V = INP\n",
    "    Y[0] = - p_0 * V[0] * V[1] + p_1 * V[1]\n",
    "    Y[1] = p_0 * V[0] * V[1] - p_1 * V[1]\n",
    "    return Y\n"
   ]
  },
  {
   "cell_type": "markdown",
   "metadata": {},
   "source": [
    "on calcule les nombres du monde à chaque moment. "
   ]
  },
  {
   "cell_type": "code",
   "execution_count": 4,
   "metadata": {},
   "outputs": [
    {
     "name": "stdout",
     "output_type": "stream",
     "text": [
      "[[ 9.99999000e-01  1.00000000e-06]\n",
      " [ 9.99996207e-01  3.79322434e-06]\n",
      " [ 9.99985781e-01  1.42190936e-05]\n",
      " [ 9.99946693e-01  5.33067438e-05]\n",
      " [ 9.99800245e-01  1.99754533e-04]\n",
      " [ 9.99252107e-01  7.47892542e-04]\n",
      " [ 9.97204340e-01  2.79565965e-03]\n",
      " [ 9.89608077e-01  1.03919233e-02]\n",
      " [ 9.62155102e-01  3.78448975e-02]\n",
      " [ 8.71588887e-01  1.28411113e-01]\n",
      " [ 6.44392589e-01  3.55607411e-01]\n",
      " [ 3.26046977e-01  6.73953023e-01]\n",
      " [ 1.14384293e-01  8.85615707e-01]\n",
      " [ 3.33325864e-02  9.66667414e-01]\n",
      " [ 9.12184677e-03  9.90878153e-01]\n",
      " [ 2.45169637e-03  9.97548304e-01]\n",
      " [ 6.55719000e-04  9.99344281e-01]\n",
      " [ 1.75144427e-04  9.99824856e-01]\n",
      " [ 4.67659655e-05  9.99953234e-01]\n",
      " [ 1.24861431e-05  9.99987514e-01]\n",
      " [ 3.33329021e-06  9.99996667e-01]\n",
      " [ 8.89338542e-07  9.99999111e-01]\n",
      " [ 2.37755351e-07  9.99999762e-01]\n",
      " [ 6.40353095e-08  9.99999936e-01]\n",
      " [ 1.65089445e-08  9.99999983e-01]\n",
      " [ 4.52869726e-09  9.99999995e-01]\n",
      " [ 1.28134364e-09  9.99999999e-01]\n",
      " [ 2.83914040e-10  1.00000000e+00]\n",
      " [-3.43633663e-10  1.00000000e+00]\n",
      " [-4.05451367e-10  1.00000000e+00]\n",
      " [-3.55992885e-10  1.00000000e+00]\n",
      " [-3.11876789e-10  1.00000000e+00]\n",
      " [-1.63578548e-10  1.00000000e+00]\n",
      " [-1.09832969e-10  1.00000000e+00]\n",
      " [-5.60873904e-11  1.00000000e+00]\n",
      " [-3.95624650e-11  1.00000000e+00]\n",
      " [-3.79715380e-11  1.00000000e+00]\n",
      " [-3.63806110e-11  1.00000000e+00]\n",
      " [-3.47896840e-11  1.00000000e+00]\n",
      " [-3.31987570e-11  1.00000000e+00]\n",
      " [-3.16078300e-11  1.00000000e+00]\n",
      " [-3.00169030e-11  1.00000000e+00]\n",
      " [-2.84259760e-11  1.00000000e+00]\n",
      " [-2.68350490e-11  1.00000000e+00]\n",
      " [-2.52441220e-11  1.00000000e+00]\n",
      " [-2.36531950e-11  1.00000000e+00]\n",
      " [-2.20622680e-11  1.00000000e+00]\n",
      " [-2.04713410e-11  1.00000000e+00]\n",
      " [-1.88804140e-11  1.00000000e+00]\n",
      " [-1.72894870e-11  1.00000000e+00]\n",
      " [-1.56985600e-11  1.00000000e+00]\n",
      " [-1.41076330e-11  1.00000000e+00]\n",
      " [-1.25167060e-11  1.00000000e+00]\n",
      " [-1.09257790e-11  1.00000000e+00]\n",
      " [-9.33485203e-12  1.00000000e+00]\n",
      " [-7.74392503e-12  1.00000000e+00]\n",
      " [-6.15299804e-12  1.00000000e+00]\n",
      " [-4.56207104e-12  1.00000000e+00]\n",
      " [-2.97114404e-12  1.00000000e+00]\n",
      " [-1.38021704e-12  1.00000000e+00]\n",
      " [-1.16279833e-12  1.00000000e+00]\n",
      " [-1.11570535e-12  1.00000000e+00]\n",
      " [-1.06861237e-12  1.00000000e+00]\n",
      " [-1.02151939e-12  1.00000000e+00]\n",
      " [-9.74426406e-13  1.00000000e+00]\n",
      " [-9.27333424e-13  1.00000000e+00]\n",
      " [-8.80240443e-13  1.00000000e+00]\n",
      " [-8.33147461e-13  1.00000000e+00]\n",
      " [-7.86054480e-13  1.00000000e+00]\n",
      " [-7.38961498e-13  1.00000000e+00]\n",
      " [-6.91868517e-13  1.00000000e+00]\n",
      " [-6.44775535e-13  1.00000000e+00]\n",
      " [-5.97682554e-13  1.00000000e+00]\n",
      " [-5.50589572e-13  1.00000000e+00]\n",
      " [-5.03496591e-13  1.00000000e+00]\n",
      " [-4.56403609e-13  1.00000000e+00]\n",
      " [-4.09310628e-13  1.00000000e+00]\n",
      " [-3.62217646e-13  1.00000000e+00]\n",
      " [-3.15124665e-13  1.00000000e+00]\n",
      " [-2.68031683e-13  1.00000000e+00]\n",
      " [-2.20938702e-13  1.00000000e+00]]\n"
     ]
    }
   ],
   "source": [
    " t_start = 0.0; t_end = ND; t_inc = TS\n",
    " t_range = np.arange(t_start, t_end+t_inc, t_inc)\n",
    " RES = spi.odeint(diff_pub,INPUT,t_range)\n",
    " \"\"\"RES est le résultat de scores individuels qui a déjà vu et non vu pour chaque pas de temps\"\"\"\n",
    " print(RES)"
   ]
  },
  {
   "cell_type": "markdown",
   "metadata": {},
   "source": [
    "on exprime les valeur précédents en terms des graphies"
   ]
  },
  {
   "cell_type": "code",
   "execution_count": 5,
   "metadata": {},
   "outputs": [
    {
     "data": {
      "image/png": "[encoded data removed]",
      "text/plain": [
       "<Figure size 432x288 with 1 Axes>"
      ]
     },
     "metadata": {
      "needs_background": "light"
     },
     "output_type": "display_data"
    }
   ],
   "source": [
    "#Ploting\n",
    "pl.plot(RES[:,0], '-bs', label='non vu')\n",
    "pl.plot(RES[:,1], '-ro', label='vu')\n",
    "pl.legend(loc=0)\n",
    "pl.title('initial model de diffusion de publication')\n",
    "pl.xlabel('Time')\n",
    "pl.ylabel('')\n",
    "pl.savefig('Premiere modele.png', dpi=900)\n",
    "pl.show()"
   ]
  },
  {
   "cell_type": "markdown",
   "metadata": {},
   "source": [
    "Comme vous pouvez le voir sur la photo, tout le monde a vu cette publication à environ t = 16."
   ]
  },
  {
   "cell_type": "markdown",
   "metadata": {},
   "source": [
    "Après,on va discuter le proportion de gens qui ont déjà vu vont arreter diffuser cette publicité.\n",
    "Hypothèse:Après un certain temps, certaines personnes ayant vu cette publicité arrêteront diffuser.."
   ]
  },
  {
   "cell_type": "code",
   "execution_count": 6,
   "metadata": {},
   "outputs": [],
   "source": [
    "p_0=1.326\n",
    "p_1=0.1359\n",
    "I0=1e-6\n",
    "ND=75\n",
    "TS=1.0\n",
    "INPUT = (1.0-I0, I0)"
   ]
  },
  {
   "cell_type": "code",
   "execution_count": 7,
   "metadata": {},
   "outputs": [
    {
     "name": "stdout",
     "output_type": "stream",
     "text": [
      "[[9.99999000e-01 1.00000000e-06]\n",
      " [9.99996669e-01 3.33097825e-06]\n",
      " [9.99989052e-01 1.09477811e-05]\n",
      " [9.99963971e-01 3.60294260e-05]\n",
      " [9.99881494e-01 1.18506419e-04]\n",
      " [9.99610424e-01 3.89576181e-04]\n",
      " [9.98720551e-01 1.27944948e-03]\n",
      " [9.95807579e-01 4.19242144e-03]\n",
      " [9.86363425e-01 1.36365751e-02]\n",
      " [9.56676697e-01 4.33233033e-02]\n",
      " [8.71740390e-01 1.28259610e-01]\n",
      " [6.82231534e-01 3.17768466e-01]\n",
      " [4.22811804e-01 5.77188196e-01]\n",
      " [2.32120063e-01 7.67879937e-01]\n",
      " [1.46327070e-01 8.53672930e-01]\n",
      " [1.16293094e-01 8.83706906e-01]\n",
      " [1.06733299e-01 8.93266701e-01]\n",
      " [1.03784119e-01 8.96215881e-01]\n",
      " [1.02883142e-01 8.97116858e-01]\n",
      " [1.02608713e-01 8.97391287e-01]\n",
      " [1.02525203e-01 8.97474797e-01]\n",
      " [1.02499796e-01 8.97500204e-01]\n",
      " [1.02492067e-01 8.97507933e-01]\n",
      " [1.02489715e-01 8.97510285e-01]\n",
      " [1.02489000e-01 8.97511000e-01]\n",
      " [1.02488784e-01 8.97511216e-01]\n",
      " [1.02488716e-01 8.97511284e-01]\n",
      " [1.02488696e-01 8.97511304e-01]\n",
      " [1.02488691e-01 8.97511309e-01]\n",
      " [1.02488689e-01 8.97511311e-01]\n",
      " [1.02488688e-01 8.97511312e-01]\n",
      " [1.02488687e-01 8.97511313e-01]\n",
      " [1.02488687e-01 8.97511313e-01]\n",
      " [1.02488687e-01 8.97511313e-01]\n",
      " [1.02488687e-01 8.97511313e-01]\n",
      " [1.02488688e-01 8.97511312e-01]\n",
      " [1.02488688e-01 8.97511312e-01]\n",
      " [1.02488688e-01 8.97511312e-01]\n",
      " [1.02488688e-01 8.97511312e-01]\n",
      " [1.02488688e-01 8.97511312e-01]\n",
      " [1.02488688e-01 8.97511312e-01]\n",
      " [1.02488688e-01 8.97511312e-01]\n",
      " [1.02488688e-01 8.97511312e-01]\n",
      " [1.02488688e-01 8.97511312e-01]\n",
      " [1.02488688e-01 8.97511312e-01]\n",
      " [1.02488688e-01 8.97511312e-01]\n",
      " [1.02488688e-01 8.97511312e-01]\n",
      " [1.02488688e-01 8.97511312e-01]\n",
      " [1.02488688e-01 8.97511312e-01]\n",
      " [1.02488688e-01 8.97511312e-01]\n",
      " [1.02488688e-01 8.97511312e-01]\n",
      " [1.02488688e-01 8.97511312e-01]\n",
      " [1.02488688e-01 8.97511312e-01]\n",
      " [1.02488688e-01 8.97511312e-01]\n",
      " [1.02488688e-01 8.97511312e-01]\n",
      " [1.02488688e-01 8.97511312e-01]\n",
      " [1.02488688e-01 8.97511312e-01]\n",
      " [1.02488688e-01 8.97511312e-01]\n",
      " [1.02488688e-01 8.97511312e-01]\n",
      " [1.02488688e-01 8.97511312e-01]\n",
      " [1.02488688e-01 8.97511312e-01]\n",
      " [1.02488688e-01 8.97511312e-01]\n",
      " [1.02488688e-01 8.97511312e-01]\n",
      " [1.02488688e-01 8.97511312e-01]\n",
      " [1.02488688e-01 8.97511312e-01]\n",
      " [1.02488688e-01 8.97511312e-01]\n",
      " [1.02488688e-01 8.97511312e-01]\n",
      " [1.02488688e-01 8.97511312e-01]\n",
      " [1.02488688e-01 8.97511312e-01]\n",
      " [1.02488688e-01 8.97511312e-01]\n",
      " [1.02488688e-01 8.97511312e-01]\n",
      " [1.02488688e-01 8.97511312e-01]\n",
      " [1.02488688e-01 8.97511312e-01]\n",
      " [1.02488688e-01 8.97511312e-01]\n",
      " [1.02488688e-01 8.97511312e-01]\n",
      " [1.02488688e-01 8.97511312e-01]]\n"
     ]
    }
   ],
   "source": [
    "def diff_pub(INP,t):\n",
    "    Y=np.zeros((2)) \n",
    "    V = INP\n",
    "    Y[0] = - p_0 * V[0] * V[1] + p_1 * V[1]\n",
    "    Y[1] = p_0 * V[0] * V[1] - p_1 * V[1]\n",
    "    return Y\n",
    "t_start = 0.0; t_end = ND; t_inc = TS\n",
    "t_range = np.arange(t_start, t_end+t_inc, t_inc)\n",
    "RES = spi.odeint(diff_pub,INPUT,t_range)\n",
    "\n",
    "print(RES)"
   ]
  },
  {
   "cell_type": "code",
   "execution_count": 8,
   "metadata": {},
   "outputs": [
    {
     "data": {
      "image/png": "[encoded data removed]",
      "text/plain": [
       "<Figure size 432x288 with 1 Axes>"
      ]
     },
     "metadata": {
      "needs_background": "light"
     },
     "output_type": "display_data"
    }
   ],
   "source": [
    "#Ploting\n",
    "pl.plot(RES[:,0], '-bs', label='non diffuser')\n",
    "pl.plot(RES[:,1], '-ro', label='encore diffuser')\n",
    "pl.legend(loc=0)\n",
    "pl.title('deuxième modèle')\n",
    "pl.xlabel('Time')\n",
    "pl.ylabel('les gens ')\n",
    "pl.savefig('deuxième modèle.png', dpi=900)\n",
    "pl.show()"
   ]
  },
  {
   "cell_type": "markdown",
   "metadata": {},
   "source": [
    "Comme on peut le voir sur la figure, à environ t = 17, la personne qui a vu la publicité était à peu près égale à celle qui a arreté diffuser la publicité, en maintenant un équilibre dynamique."
   ]
  },
  {
   "cell_type": "markdown",
   "metadata": {},
   "source": [
    "Après, on va discuter 3 types de personne\n",
    "1.non vu\n",
    "2.vu et arreter diffuser\n",
    "3.encore diffuser"
   ]
  },
  {
   "cell_type": "code",
   "execution_count": 9,
   "metadata": {},
   "outputs": [],
   "source": [
    "p_0=1.4247\n",
    "p_1=0.14286\n",
    "TS=1.0\n",
    "ND=70.0\n",
    "S0=1-1e-6\n",
    "I0=1e-6\n",
    "INPUT = (S0, I0, 0.0)"
   ]
  },
  {
   "cell_type": "code",
   "execution_count": 10,
   "metadata": {},
   "outputs": [
    {
     "name": "stdout",
     "output_type": "stream",
     "text": [
      "[[9.99999000e-01 1.00000000e-06 0.00000000e+00]\n",
      " [9.99996055e-01 3.64966741e-06 2.95304063e-07]\n",
      " [9.99985485e-01 1.31593559e-05 1.35516202e-06]\n",
      " [9.99947369e-01 4.74532092e-05 5.17732698e-06]\n",
      " [9.99809987e-01 1.71058575e-04 1.89549056e-05]\n",
      " [9.99315303e-01 6.16116637e-04 6.85803972e-05]\n",
      " [9.97537151e-01 2.21568587e-03 2.47163570e-04]\n",
      " [9.91184992e-01 7.92727469e-03 8.87733548e-04]\n",
      " [9.68987928e-01 2.78532303e-02 3.15884192e-03]\n",
      " [8.97021359e-01 9.20814169e-02 1.08972243e-02]\n",
      " [7.10533894e-01 2.55198783e-01 3.42673227e-02]\n",
      " [4.16254892e-01 4.95859506e-01 8.78856016e-02]\n",
      " [1.81009913e-01 6.47601951e-01 1.71388136e-01]\n",
      " [7.02756394e-02 6.63464569e-01 2.66259791e-01]\n",
      " [2.81753698e-02 6.13916972e-01 3.57907658e-01]\n",
      " [1.23171971e-02 5.46803480e-01 4.40879323e-01]\n",
      " [5.93052075e-03 4.79901640e-01 5.14167839e-01]\n",
      " [3.12942081e-03 4.18601275e-01 5.78269304e-01]\n",
      " [1.79337332e-03 3.64109920e-01 6.34096706e-01]\n",
      " [1.10537879e-03 3.16274314e-01 6.82620307e-01]\n",
      " [7.26162083e-04 2.74521454e-01 7.24752384e-01]\n",
      " [5.04291220e-04 2.38181411e-01 7.61314298e-01]\n",
      " [3.67543113e-04 2.06600348e-01 7.93032109e-01]\n",
      " [2.79356766e-04 1.79178534e-01 8.20542109e-01]\n",
      " [2.20205306e-04 1.55380340e-01 8.44399455e-01]\n",
      " [1.79153019e-04 1.34733494e-01 8.65087353e-01]\n",
      " [1.49806066e-04 1.16824397e-01 8.83025797e-01]\n",
      " [1.28281424e-04 1.01292185e-01 8.98579533e-01]\n",
      " [1.12138628e-04 8.78226989e-02 9.12065162e-01]\n",
      " [9.97957582e-05 7.61428067e-02 9.23757398e-01]\n",
      " [9.02006020e-05 6.60152474e-02 9.33894552e-01]\n",
      " [8.26317282e-05 5.72340337e-02 9.42683335e-01]\n",
      " [7.65855314e-05 4.96204001e-02 9.50303014e-01]\n",
      " [7.17028201e-05 4.30192467e-02 9.56909050e-01]\n",
      " [6.77224026e-05 3.72960334e-02 9.62636244e-01]\n",
      " [6.44499583e-05 3.23340460e-02 9.67601504e-01]\n",
      " [6.17414715e-05 2.80321049e-02 9.71906154e-01]\n",
      " [5.94857859e-05 2.43024406e-02 9.75638074e-01]\n",
      " [5.75970461e-05 2.10689440e-02 9.78873459e-01]\n",
      " [5.60082188e-05 1.82656268e-02 9.81678365e-01]\n",
      " [5.46663092e-05 1.58352707e-02 9.84110063e-01]\n",
      " [5.35289881e-05 1.37282636e-02 9.86218207e-01]\n",
      " [5.25621014e-05 1.19015888e-02 9.88045849e-01]\n",
      " [5.17380563e-05 1.03179599e-02 9.89630302e-01]\n",
      " [5.10341207e-05 8.94503990e-03 9.91003926e-01]\n",
      " [5.04316012e-05 7.75479388e-03 9.92194775e-01]\n",
      " [4.99150266e-05 6.72291986e-03 9.93227165e-01]\n",
      " [4.94714727e-05 5.82834590e-03 9.94122183e-01]\n",
      " [4.90901293e-05 5.05280360e-03 9.94898106e-01]\n",
      " [4.87619124e-05 4.38045613e-03 9.95570782e-01]\n",
      " [4.84791458e-05 3.79757232e-03 9.96153949e-01]\n",
      " [4.82353321e-05 3.29224812e-03 9.96659517e-01]\n",
      " [4.80249536e-05 2.85416370e-03 9.97097811e-01]\n",
      " [4.78433109e-05 2.47437218e-03 9.97477785e-01]\n",
      " [4.76863960e-05 2.14511780e-03 9.97807196e-01]\n",
      " [4.75507786e-05 1.85967613e-03 9.98092773e-01]\n",
      " [4.74335183e-05 1.61221592e-03 9.98340351e-01]\n",
      " [4.73320965e-05 1.39768456e-03 9.98554983e-01]\n",
      " [4.72443457e-05 1.21169968e-03 9.98741056e-01]\n",
      " [4.71684034e-05 1.05046313e-03 9.98902368e-01]\n",
      " [4.71026655e-05 9.10681828e-04 9.99042216e-01]\n",
      " [4.70457490e-05 7.89500235e-04 9.99163454e-01]\n",
      " [4.69964621e-05 6.84444173e-04 9.99268559e-01]\n",
      " [4.69537753e-05 5.93367394e-04 9.99359679e-01]\n",
      " [4.69168001e-05 5.14409754e-04 9.99438673e-01]\n",
      " [4.68847686e-05 4.45958892e-04 9.99507156e-01]\n",
      " [4.68570172e-05 3.86616434e-04 9.99566527e-01]\n",
      " [4.68329720e-05 3.35170698e-04 9.99617996e-01]\n",
      " [4.68121362e-05 2.90570482e-04 9.99662617e-01]\n",
      " [4.67940806e-05 2.51905196e-04 9.99701301e-01]\n",
      " [4.67784332e-05 2.18384908e-04 9.99734837e-01]]\n"
     ]
    }
   ],
   "source": [
    "def diff_eqs(INP,t):\n",
    "    Y=np.zeros((3))\n",
    "    V = INP\n",
    "    Y[0] = - p_0 * V[0] * V[1]\n",
    "    Y[1] = p_0 * V[0] * V[1] - p_1 * V[1]\n",
    "    Y[2] = p_1 * V[1]\n",
    "    return Y \n",
    " \n",
    "t_start = 0.0; t_end = ND; t_inc = TS\n",
    "t_range = np.arange(t_start, t_end+t_inc, t_inc)\n",
    "RES = spi.odeint(diff_eqs,INPUT,t_range)\n",
    " \n",
    "print(RES)"
   ]
  },
  {
   "cell_type": "code",
   "execution_count": 11,
   "metadata": {},
   "outputs": [
    {
     "data": {
      "image/png": "[encoded data removed]",
      "text/plain": [
       "<Figure size 432x288 with 1 Axes>"
      ]
     },
     "metadata": {
      "needs_background": "light"
     },
     "output_type": "display_data"
    }
   ],
   "source": [
    "#Ploting\n",
    "pl.plot(RES[:,0], '-bs', label='non vu')\n",
    "pl.plot(RES[:,2], '-g^', label='vu et arreter diffuser')\n",
    "pl.plot(RES[:,1], '-ro', label='vu et diffuser')\n",
    "pl.legend(loc=0)\n",
    "pl.title('trosième modèle')\n",
    "pl.xlabel('Time')\n",
    "pl.ylabel('la Proportion de personnes')\n",
    "pl.savefig('trosième modèle.png', dpi=900) \n",
    "pl.show()"
   ]
  },
  {
   "cell_type": "markdown",
   "metadata": {},
   "source": [
    "Comme on peut le voir sur la figure, à la fin, tout le monde a vu des publicités, et le nombre de personnes qui diffusent des publicités a d'abord augmenté, puis diminué, pour finalement devenir des personnes qui ont vu des publicités sans se diffuser."
   ]
  },
  {
   "cell_type": "code",
   "execution_count": null,
   "metadata": {},
   "outputs": [],
   "source": []
  },
  {
   "cell_type": "code",
   "execution_count": null,
   "metadata": {},
   "outputs": [],
   "source": []
  },
  {
   "cell_type": "code",
   "execution_count": null,
   "metadata": {},
   "outputs": [],
   "source": []
  }
 ],
 "metadata": {
  "kernelspec": {
   "display_name": "Python 3",
   "language": "python",
   "name": "python3"
  },
  "language_info": {
   "codemirror_mode": {
    "name": "ipython",
    "version": 3
   },
   "file_extension": ".py",
   "mimetype": "text/x-python",
   "name": "python",
   "nbconvert_exporter": "python",
   "pygments_lexer": "ipython3",
   "version": "3.5.3"
  }
 },
 "nbformat": 4,
 "nbformat_minor": 2
}
